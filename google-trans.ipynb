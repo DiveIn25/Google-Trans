{
 "cells": [
  {
   "cell_type": "code",
   "execution_count": 1,
   "metadata": {},
   "outputs": [
    {
     "name": "stdout",
     "output_type": "stream",
     "text": [
      "word\n"
     ]
    }
   ],
   "source": [
    "from googletrans import Translator  \n",
    "translator = Translator()           \n",
    "a = translator.translate(\"शब्द\")       \n",
    "print(a.text)"
   ]
  },
  {
   "cell_type": "code",
   "execution_count": 2,
   "metadata": {},
   "outputs": [
    {
     "name": "stdout",
     "output_type": "stream",
     "text": [
      "The truth is my light\n"
     ]
    }
   ],
   "source": [
    "b = translator.translate('veritas lux mea', src='la')\n",
    "print(b.text)"
   ]
  },
  {
   "cell_type": "code",
   "execution_count": 6,
   "metadata": {},
   "outputs": [
    {
     "name": "stdout",
     "output_type": "stream",
     "text": [
      "Converted text:- The truth is my light\n",
      "Pronuce as:-  The truth is my light\n",
      "From this language:-  la\n",
      "To this language:-  en\n"
     ]
    }
   ],
   "source": [
    "b = translator.translate('veritas lux mea', src='la')\n",
    "print(\"Converted text:-\",b.text)\n",
    "print(\"Pronuce as:- \",b.pronunciation)\n",
    "print(\"From this language:- \",b.src)\n",
    "print(\"To this language:- \",b.dest)"
   ]
  },
  {
   "cell_type": "code",
   "execution_count": 8,
   "metadata": {},
   "outputs": [
    {
     "name": "stdout",
     "output_type": "stream",
     "text": [
      "Converted text:-  सच तो यह है मेरी प्रकाश है\n",
      "Pronuce as:-  None\n",
      "From this language:-  la\n",
      "To this language:-  hi\n"
     ]
    }
   ],
   "source": [
    "b = translator.translate('veritas lux mea', src='la',dest=\"hi\")\n",
    "print(\"Converted text:- \",b.text)\n",
    "print(\"Pronuce as:- \",b.pronunciation)\n",
    "print(\"From this language:- \",b.src)\n",
    "print(\"To this language:- \",b.dest)"
   ]
  },
  {
   "cell_type": "code",
   "execution_count": null,
   "metadata": {},
   "outputs": [],
   "source": []
  },
  {
   "cell_type": "code",
   "execution_count": null,
   "metadata": {},
   "outputs": [],
   "source": []
  },
  {
   "cell_type": "code",
   "execution_count": null,
   "metadata": {},
   "outputs": [],
   "source": []
  }
 ],
 "metadata": {
  "kernelspec": {
   "display_name": "Python 3",
   "language": "python",
   "name": "python3"
  },
  "language_info": {
   "codemirror_mode": {
    "name": "ipython",
    "version": 3
   },
   "file_extension": ".py",
   "mimetype": "text/x-python",
   "name": "python",
   "nbconvert_exporter": "python",
   "pygments_lexer": "ipython3",
   "version": "3.7.4"
  }
 },
 "nbformat": 4,
 "nbformat_minor": 2
}
